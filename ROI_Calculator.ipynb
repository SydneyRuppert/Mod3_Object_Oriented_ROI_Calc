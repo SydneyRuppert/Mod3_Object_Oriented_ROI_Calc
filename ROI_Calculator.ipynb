{
 "cells": [
  {
   "cell_type": "code",
   "execution_count": 6,
   "id": "6de47837",
   "metadata": {},
   "outputs": [
    {
     "name": "stdout",
     "output_type": "stream",
     "text": [
      "Welcome to our online rental property ROI calculator.\n",
      "Enter Y for yes if you would like to move forward with calculating your ROI.y\n",
      "Please enter your monthly rental income from your property.3000\n",
      "Please enter your monthly laundry income from your property.50\n",
      "Please enter your monthly storage income from your property.50\n",
      "Please enter any other misc income from your property.100\n",
      "Please enter your yearly taxes for your property.250\n",
      "Please enter your yearly payment on insurance for your property.200\n",
      "Please enter your yearly money spent on repairs for your property.50\n",
      "Please enter your yearly money spent on property management for your property.400\n",
      "Please enter your yearly money spent on utilities for your property.200\n",
      "Please enter your yearly money spent on HOA expenses for your property.100\n",
      "Please enter your yearly money spent on lawn care for your property.200\n",
      "Please enter your yearly money spent on vacancy for your property.100\n",
      "Please enter your yearly money spent on capital exepnses for your property.100\n",
      "Please enter your yearly money spent on the mortgage for your property.100\n",
      "Please enter your down payment for your property.1000\n",
      "Please enter your closing cost for your property.500\n",
      "Please enter your rehab budget for your property.700\n",
      "Please enter any miscellaneous investments that you have already put into your property.200\n",
      "This is your ROI:62.5\n"
     ]
    }
   ],
   "source": [
    "class Calc():\n",
    "    def rental_income(self):\n",
    "        rent=float(input('Please enter your monthly rental income from your property.'))\n",
    "        laundry=float(input('Please enter your monthly laundry income from your property.'))\n",
    "        storage=float(input('Please enter your monthly storage income from your property.'))\n",
    "        misc=float(input('Please enter any other misc income from your property.'))\n",
    "        self.income=rent+laundry+storage+misc\n",
    "        if self.income<=0:\n",
    "             print('Sorry, a number was not added.')\n",
    "           \n",
    "\n",
    "    def add_expenses(self):\n",
    "        taxes=float(input('Please enter your yearly taxes for your property.'))\n",
    "        insurance=float(input('Please enter your yearly payment on insurance for your property.'))\n",
    "        repairs=float(input('Please enter your yearly money spent on repairs for your property.'))\n",
    "        property_management=float(input('Please enter your yearly money spent on property management for your property.'))\n",
    "        utilities=float(input('Please enter your yearly money spent on utilities for your property.'))\n",
    "        HOA=float(input('Please enter your yearly money spent on HOA expenses for your property.'))\n",
    "        lawn_care=float(input('Please enter your yearly money spent on lawn care for your property.'))\n",
    "        vacancy=float(input('Please enter your yearly money spent on vacancy for your property.'))\n",
    "        cap_ex=float(input('Please enter your yearly money spent on capital exepnses for your property.'))\n",
    "        mortgage=float(input('Please enter your yearly money spent on the mortgage for your property.'))\n",
    "        self.total_expense=taxes+insurance+repairs+property_management+utilities+HOA+lawn_care+cap_ex+vacancy+mortgage\n",
    "        \n",
    "    def cash_flow(self):\n",
    "        self.cf=self.income-self.total_expense\n",
    "        if self.income>0:\n",
    "            self.cf*12\n",
    "        else:\n",
    "            print('Oops,something went wrong.')\n",
    "    def initial_investment(self):\n",
    "        dp=float(input('Please enter your down payment for your property.'))\n",
    "        cc=float(input('Please enter your closing cost for your property.'))\n",
    "        r=float(input('Please enter your rehab budget for your property.'))\n",
    "        m=float(input('Please enter any miscellaneous investments that you have already put into your property.'))\n",
    "        self.initial_invest=dp+cc+r+m\n",
    "    def ROI(self):\n",
    "        roi=(self.cf/self.initial_invest)*100\n",
    "        print(f'This is your ROI:{roi}')\n",
    "def run():\n",
    "    calculator = Calc()\n",
    "    print(f'Welcome to our online rental property ROI calculator.')\n",
    "    move=input('Enter Y for yes if you would like to move forward with calculating your ROI.')\n",
    "    if move.lower()=='y':\n",
    "        calculator.rental_income()\n",
    "        calculator.add_expenses()\n",
    "        calculator.cash_flow()\n",
    "        calculator.initial_investment()\n",
    "        calculator.ROI()\n",
    "    else:\n",
    "        print('It looks like you selected not to calculate. Have a nice day!')\n",
    "          \n",
    "run()   \n",
    "   \n",
    "    "
   ]
  },
  {
   "cell_type": "markdown",
   "id": "b58af833",
   "metadata": {},
   "source": [
    "##### 5\n",
    "##### "
   ]
  },
  {
   "cell_type": "code",
   "execution_count": null,
   "id": "828a4282",
   "metadata": {},
   "outputs": [],
   "source": []
  },
  {
   "cell_type": "code",
   "execution_count": null,
   "id": "5eea287a",
   "metadata": {},
   "outputs": [],
   "source": []
  }
 ],
 "metadata": {
  "kernelspec": {
   "display_name": "Python 3 (ipykernel)",
   "language": "python",
   "name": "python3"
  },
  "language_info": {
   "codemirror_mode": {
    "name": "ipython",
    "version": 3
   },
   "file_extension": ".py",
   "mimetype": "text/x-python",
   "name": "python",
   "nbconvert_exporter": "python",
   "pygments_lexer": "ipython3",
   "version": "3.11.3"
  }
 },
 "nbformat": 4,
 "nbformat_minor": 5
}
